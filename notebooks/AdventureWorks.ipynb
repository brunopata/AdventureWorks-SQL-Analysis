{
 "cells": [
  {
   "cell_type": "markdown",
   "id": "f4cb89bf-8709-43d3-bf55-dd16814e21e1",
   "metadata": {},
   "source": [
    "# 📊 AdventureWorks Sales Performance Analysis (SQL + BigQuery)"
   ]
  },
  {
   "cell_type": "markdown",
   "id": "c3316b77-6202-45aa-92fe-c8801d2f91e3",
   "metadata": {
    "jp-MarkdownHeadingCollapsed": true
   },
   "source": [
    "## 🧰 Tools Used"
   ]
  },
  {
   "cell_type": "markdown",
   "id": "a477a7fc-56d6-4a31-b9cd-9dc5f4783f74",
   "metadata": {},
   "source": [
    "- Google BigQuery\n",
    "- SQL (CTEs, JOINs, Aggregation, Filtering)\n",
    "- Jupyter Notebook to document SQL queries, analysis walkthrough and business insights"
   ]
  },
  {
   "cell_type": "markdown",
   "id": "fe811e10-4448-4c25-8bfa-f789a7ed1415",
   "metadata": {
    "jp-MarkdownHeadingCollapsed": true
   },
   "source": [
    "## 🎯 Objective"
   ]
  },
  {
   "cell_type": "markdown",
   "id": "f8f74ee4-a5ab-4969-9279-3c91f4df04ed",
   "metadata": {},
   "source": [
    "This project analyzes sales and product data from the [AdventureWorks Dataset](https://www.kaggle.com/datasets/ukveteran/adventure-works?select=AdventureWorks_Products.csv) to uncover performance trends, high-value products and regional opportunities. The analysis is conducted using SQL on BigQuery and structured as a business-oriented case study."
   ]
  },
  {
   "cell_type": "markdown",
   "id": "00acdd37-0edc-4223-b1b8-472c826e08bd",
   "metadata": {
    "jp-MarkdownHeadingCollapsed": true
   },
   "source": [
    "## 📽 Pre-Processing"
   ]
  },
  {
   "cell_type": "markdown",
   "id": "ace3944a-b6c2-4922-bfe9-566cf244da6e",
   "metadata": {
    "jp-MarkdownHeadingCollapsed": true
   },
   "source": [
    "### Column Titles Cleaning"
   ]
  },
  {
   "cell_type": "markdown",
   "id": "fafdb32e-d90a-4d44-a34f-927a5aee14e3",
   "metadata": {},
   "source": [
    "> _Decapitalization of Column Titles and Underscoring for consistency_"
   ]
  },
  {
   "cell_type": "code",
   "execution_count": null,
   "id": "f3c5828c-c03d-4f1e-92d2-921b689f26c2",
   "metadata": {},
   "outputs": [],
   "source": [
    "# Example on Calendar Table\n",
    "CREATE TABLE `AdventureWorks.calendar` AS\n",
    "SELECT Date AS date\n",
    "FROM `AdventureWorks.raw_calendar`"
   ]
  },
  {
   "cell_type": "markdown",
   "id": "311fdce0-5b47-4973-9506-cc9484088b32",
   "metadata": {
    "jp-MarkdownHeadingCollapsed": true
   },
   "source": [
    "### Combining Yearly Sales Tables"
   ]
  },
  {
   "cell_type": "markdown",
   "id": "ffe7885b-90bd-482b-a140-8b0065d12760",
   "metadata": {},
   "source": [
    "> _Create a View of ALL Sales_"
   ]
  },
  {
   "cell_type": "code",
   "execution_count": null,
   "id": "ea1c7fe2-49e3-4951-9e56-cb58de30b2c2",
   "metadata": {},
   "outputs": [],
   "source": [
    "# Union Sales per Year tables\n",
    "CREATE VIEW `AdventureWorks.sales` AS\n",
    "SELECT * FROM `AdventureWorks.sales_2015`\n",
    "UNION ALL\n",
    "SELECT * FROM `AdventureWorks.sales_2016`\n",
    "UNION ALL\n",
    "SELECT * FROM `AdventureWorks.sales_2017`"
   ]
  },
  {
   "cell_type": "markdown",
   "id": "6d0caaa7-6a53-4a67-884c-c909d2d754da",
   "metadata": {
    "jp-MarkdownHeadingCollapsed": true
   },
   "source": [
    "## 📁 Dataset Overview"
   ]
  },
  {
   "cell_type": "markdown",
   "id": "13ce46ff-b1c8-4fc2-aa65-f2fb712ad7ca",
   "metadata": {},
   "source": [
    "The following tables are used:\n",
    "- `products`, `categories`, `subcategories`: product details and pricing\n",
    "- `sales`: order data\n",
    "- `sales_2015`, `sales_2016`, `sales_2017`: order data per year\n",
    "- `customers`: customer info\n",
    "- `territories`: sales region"
   ]
  },
  {
   "cell_type": "markdown",
   "id": "5deba00e-42f4-43f0-b72a-f869b7339a37",
   "metadata": {
    "jp-MarkdownHeadingCollapsed": true
   },
   "source": [
    "## 1. Schema Exploration"
   ]
  },
  {
   "cell_type": "markdown",
   "id": "0d539ff4-746f-47e2-b8fd-5b7d4c8e2a54",
   "metadata": {},
   "source": [
    "> _List available tables and row counts_  \n",
    "> _Use COUNT(*) and metadata queries to understand table sizes and contents_"
   ]
  },
  {
   "cell_type": "code",
   "execution_count": null,
   "id": "f6d09db4-a943-4c17-ae94-c7ad20055dfc",
   "metadata": {},
   "outputs": [],
   "source": [
    "# Count of rows per table\n",
    "SELECT 'products' AS table_name, COUNT(*) AS row_count\n",
    "FROM `AdventureWorks.products`\n",
    "UNION ALL\n",
    "SELECT 'sales' AS table_name, COUNT(*) AS row_count\n",
    "FROM `AdventureWorks.sales`\n",
    "UNION ALL\n",
    "SELECT 'customers' AS table_name, COUNT(*) AS row_count\n",
    "FROM `AdventureWorks.customers`"
   ]
  },
  {
   "cell_type": "markdown",
   "id": "9f41bef6-9b59-4670-8b05-3bb3ef29b883",
   "metadata": {
    "jp-MarkdownHeadingCollapsed": true
   },
   "source": [
    "## 2. Total Sales Overview"
   ]
  },
  {
   "cell_type": "markdown",
   "id": "15bc9992-2e66-4eb3-86a4-143dee4cc201",
   "metadata": {},
   "source": [
    "> _Create a View of Orders with Price_  \n",
    "> _Orders Cost, Price & Revenue_"
   ]
  },
  {
   "cell_type": "code",
   "execution_count": null,
   "id": "e4036525-ee18-430b-b560-3b52025b7f59",
   "metadata": {},
   "outputs": [],
   "source": [
    "# Cost, Price & Revenue by Order\n",
    "CREATE VIEW `AdventureWorks.orders` AS\n",
    "SELECT\n",
    "    s.order_date,\n",
    "    s.order_number,\n",
    "    s.territory_key,\n",
    "    s.product_key,\n",
    "    s.order_quantity,\n",
    "    p.product,\n",
    "    ROUND(p.cost, 2) AS product_cost,\n",
    "    ROUND(p.price, 2) AS product_price,\n",
    "    ROUND((s.order_quantity * p.cost), 2) AS order_cost,\n",
    "    ROUND((s.order_quantity * p.price), 2) AS order_price,\n",
    "    ROUND((s.order_quantity * p.price) - (s.order_quantity * p.cost), 2) AS order_revenue\n",
    "FROM `AdventureWorks.sales` s\n",
    "JOIN `AdventureWorks.products` p\n",
    "    ON s.product_key = p.product_key"
   ]
  },
  {
   "cell_type": "markdown",
   "id": "7f7c6e0f-d0fb-47be-a7b4-b31c122a8b7f",
   "metadata": {
    "jp-MarkdownHeadingCollapsed": true
   },
   "source": [
    "## 3. Exploratory Business Questions"
   ]
  },
  {
   "cell_type": "markdown",
   "id": "83e44b2a-f00d-416f-a75b-be62dab4393b",
   "metadata": {},
   "source": [
    "> _Exploration on Products, Sales, Revenue and Customers_"
   ]
  },
  {
   "cell_type": "markdown",
   "id": "96fa1975-212d-49ae-9d0c-f3621cd9c3c8",
   "metadata": {
    "jp-MarkdownHeadingCollapsed": true
   },
   "source": [
    "#### • 📃 Top Sales by Product"
   ]
  },
  {
   "cell_type": "code",
   "execution_count": null,
   "id": "4cf854e7-6e40-4ecd-9614-1f4d87710686",
   "metadata": {},
   "outputs": [],
   "source": [
    "# Top 10 Product Sales and Quantities Sold \n",
    "SELECT\n",
    "    product,\n",
    "    ROUND(SUM(order_price), 2) AS total_sales,\n",
    "    SUM(order_quantity) AS quantity_sales\n",
    "FROM `AdventureWorks.orders`\n",
    "GROUP BY product\n",
    "ORDER BY total_sales DESC\n",
    "LIMIT 10"
   ]
  },
  {
   "cell_type": "markdown",
   "id": "f4d177c4-67af-4224-9094-a6da64755014",
   "metadata": {},
   "source": [
    "> ##### _\"Mountain and road bikes dominate sales volumes, likely due to their higher popularity and broader market\"_"
   ]
  },
  {
   "cell_type": "markdown",
   "id": "1675ddee-6322-46f5-864b-83b401bf0d5e",
   "metadata": {
    "jp-MarkdownHeadingCollapsed": true
   },
   "source": [
    "#### • 📈 Best Selling Categories by Revenue"
   ]
  },
  {
   "cell_type": "code",
   "execution_count": null,
   "id": "92f0e499-7016-4536-8f92-0aaaebdd046e",
   "metadata": {},
   "outputs": [],
   "source": [
    "# Categories by Revenue and Quantities Sold \n",
    "SELECT\n",
    "    c.category AS category,\n",
    "    ROUND(SUM(o.order_revenue), 2) AS total_revenue,\n",
    "    SUM(o.order_quantity) AS quantity_sales\n",
    "FROM `AdventureWorks.orders` o\n",
    "JOIN `AdventureWorks.products` p\n",
    "    ON o.product_key = p.product_key\n",
    "JOIN `AdventureWorks.subcategories` sc\n",
    "    ON p.subcategory_key = sc.subcategory_key\n",
    "JOIN `AdventureWorks.categories` c\n",
    "    ON sc.category_key = c.category_key\n",
    "GROUP BY category\n",
    "ORDER BY total_revenue DESC"
   ]
  },
  {
   "cell_type": "markdown",
   "id": "01c31a20-4493-41da-8b47-44f4d1d3e5a1",
   "metadata": {},
   "source": [
    "> ##### _\"Bikes are the highest-revenue category, however Accessories dominate on quantities sold.\"_"
   ]
  },
  {
   "cell_type": "markdown",
   "id": "513535da-6b4d-49cd-9aa1-7b5611793c24",
   "metadata": {
    "jp-MarkdownHeadingCollapsed": true
   },
   "source": [
    "#### • 📊 Top Selling Sub-Categories by Revenue"
   ]
  },
  {
   "cell_type": "code",
   "execution_count": null,
   "id": "05559914-da7c-403d-9331-7dd1b5c828ff",
   "metadata": {},
   "outputs": [],
   "source": [
    "# Top 10 Sub-Categories by Revenue and Quantities Sold \n",
    "SELECT\n",
    "    sc.subcategory AS subcategory,\n",
    "    ROUND(SUM(o.order_revenue), 2) AS total_revenue,\n",
    "    SUM(o.order_quantity) AS quantity_sales\n",
    "FROM `AdventureWorks.orders` o\n",
    "JOIN `AdventureWorks.products` p\n",
    "    ON o.product_key = p.product_key\n",
    "JOIN `AdventureWorks.subcategories` sc\n",
    "    ON p.subcategory_key = sc.subcategory_key\n",
    "GROUP BY subcategory\n",
    "ORDER BY total_revenue DESC\n",
    "LIMIT 10"
   ]
  },
  {
   "cell_type": "markdown",
   "id": "fda375c3-5b9d-4bf9-b945-a776e2ca5056",
   "metadata": {},
   "source": [
    "> ##### _\"Again we see Road Bikes as the most profitable Category, while Tires and Tubes have the most quantities sold. Sugesting targeted promotions can be very profitable in these Sub-Categories.\"_"
   ]
  },
  {
   "cell_type": "markdown",
   "id": "5fd85216-a2a2-4eb5-bd84-ad272193aedc",
   "metadata": {
    "jp-MarkdownHeadingCollapsed": true
   },
   "source": [
    "#### • 🛍 Top Selling Products by Revenue"
   ]
  },
  {
   "cell_type": "code",
   "execution_count": null,
   "id": "bf278f06-b02c-4d16-aed9-f8e543ac2e11",
   "metadata": {},
   "outputs": [],
   "source": [
    "# Top 10 Product Revenue and Quantities Sold \n",
    "SELECT\n",
    "    product,\n",
    "    ROUND(SUM(order_revenue), 2) AS total_revenue,\n",
    "    SUM(order_quantity) AS quantity_sales\n",
    "FROM `AdventureWorks.orders`\n",
    "GROUP BY product\n",
    "ORDER BY total_revenue DESC\n",
    "LIMIT 10"
   ]
  },
  {
   "cell_type": "markdown",
   "id": "ec0169a5-4977-4481-ae06-1ef15c484395",
   "metadata": {},
   "source": [
    "> ##### _\"The Top 5 Products contribute to a large amount of the total product revenue. Counting over 50% of total product revenue.\"_"
   ]
  },
  {
   "cell_type": "markdown",
   "id": "e41cfd72-a2c7-462e-89c6-8948fbf077ba",
   "metadata": {
    "jp-MarkdownHeadingCollapsed": true
   },
   "source": [
    "#### • 📅 Sales Over Time (Month, Quarter, Year)"
   ]
  },
  {
   "cell_type": "markdown",
   "id": "5a1727a0-d5fd-4ed4-af22-8e0c056ac61c",
   "metadata": {
    "jp-MarkdownHeadingCollapsed": true
   },
   "source": [
    "##### > Sales by Year"
   ]
  },
  {
   "cell_type": "code",
   "execution_count": null,
   "id": "8524da90-ccf3-4c7e-aa1d-df09b0a9014c",
   "metadata": {},
   "outputs": [],
   "source": [
    "# Overview on Sales by Year\n",
    "SELECT\n",
    "    EXTRACT(YEAR FROM order_date) AS year,\n",
    "    SUM(order_quantity) AS sales_quantity,\n",
    "    ROUND(SUM(order_cost), 2) AS total_sales_cost,\n",
    "    ROUND(SUM(order_price), 2) AS total_sales,\n",
    "    ROUND(SUM(order_revenue), 2) AS total_revenue\n",
    "FROM `AdventureWorks.orders`\n",
    "GROUP BY year\n",
    "ORDER BY year ASC"
   ]
  },
  {
   "cell_type": "markdown",
   "id": "f9016ef7-da09-480c-8ef6-dc5ae8e65148",
   "metadata": {
    "jp-MarkdownHeadingCollapsed": true
   },
   "source": [
    "##### > Sales by Quarter"
   ]
  },
  {
   "cell_type": "code",
   "execution_count": null,
   "id": "77a0cf8e-a974-4079-aeb8-8e30a4228244",
   "metadata": {},
   "outputs": [],
   "source": [
    "# Overview on Sales by Quarter\n",
    "SELECT\n",
    "    CONCAT('Q', EXTRACT(QUARTER FROM order_date)) AS quarter,\n",
    "    EXTRACT(YEAR FROM order_date) AS year,\n",
    "    SUM(order_quantity) AS sales_quantity,\n",
    "    ROUND(SUM(order_cost), 2) AS total_sales_cost,\n",
    "    ROUND(SUM(order_price), 2) AS total_sales,\n",
    "    ROUND(SUM(order_revenue), 2) AS total_revenue\n",
    "FROM `AdventureWorks.orders`\n",
    "GROUP BY\n",
    "    year,\n",
    "    quarter\n",
    "ORDER BY\n",
    "    year,\n",
    "    quarter"
   ]
  },
  {
   "cell_type": "markdown",
   "id": "915def01-5aaf-44e0-b012-ea420143f22e",
   "metadata": {
    "jp-MarkdownHeadingCollapsed": true
   },
   "source": [
    "##### > Sales by Month"
   ]
  },
  {
   "cell_type": "code",
   "execution_count": null,
   "id": "2af3abc6-305d-44a3-99b2-6881f1568bda",
   "metadata": {},
   "outputs": [],
   "source": [
    "# Overview on Sales by Month\n",
    "SELECT\n",
    "    FORMAT_DATE('%m-%Y', order_date) AS month,\n",
    "    SUM(order_quantity) AS sales_quantity,\n",
    "    ROUND(SUM(order_cost), 2) AS total_sales_cost,\n",
    "    ROUND(SUM(order_price), 2) AS total_sales,\n",
    "    ROUND(SUM(order_revenue), 2) AS total_revenue\n",
    "FROM `AdventureWorks.orders`\n",
    "GROUP BY month\n",
    "ORDER BY PARSE_DATE('%m-%Y', month) ASC"
   ]
  },
  {
   "cell_type": "markdown",
   "id": "021b6954-8b93-48ae-b9da-7410dd7895d8",
   "metadata": {},
   "source": [
    "> ##### _\"Sales by Year show higher demand throughout the years.\"_\n",
    "> ##### _\"Sales show steady growth month-over-month, suggesting minimal seasonal fluctuation.\"_"
   ]
  },
  {
   "cell_type": "markdown",
   "id": "43258428-bae4-4551-b033-180a078d1387",
   "metadata": {
    "jp-MarkdownHeadingCollapsed": true
   },
   "source": [
    "#### • 🌍 Sales by Region"
   ]
  },
  {
   "cell_type": "code",
   "execution_count": null,
   "id": "6812c916-9208-4bd3-ba96-3a1ea51e01f2",
   "metadata": {},
   "outputs": [],
   "source": [
    "# Overview on Sales by Region\n",
    "SELECT\n",
    "    t.country AS country,\n",
    "    t.region AS region,\n",
    "    COUNT(o.order_number) AS order_count,\n",
    "    SUM(o.order_quantity) AS sales_quantity,\n",
    "    ROUND(SUM(o.order_cost), 2) AS total_sales_cost,\n",
    "    ROUND(SUM(o.order_price), 2) AS total_sales,\n",
    "    ROUND(SUM(o.order_revenue), 2) AS total_revenue\n",
    "FROM `AdventureWorks.orders` o\n",
    "JOIN `AdventureWorks.territories` t\n",
    "    ON o.territory_key = t.territory_key\n",
    "GROUP BY\n",
    "    t.country,\n",
    "    t.region\n",
    "ORDER BY total_sales DESC"
   ]
  },
  {
   "cell_type": "markdown",
   "id": "e9600c52-0074-44c4-9d65-b667c4237add",
   "metadata": {},
   "source": [
    "> ##### _\"North America generates the most revenue, particularly on the West side. But emerging sales in Europe and Australia indicate a potential area for expansion.\"_"
   ]
  },
  {
   "cell_type": "markdown",
   "id": "a07a1806-0c27-400a-b7bc-36cdd988c85f",
   "metadata": {
    "jp-MarkdownHeadingCollapsed": true
   },
   "source": [
    "#### • 👤 Most Frequent Customers"
   ]
  },
  {
   "cell_type": "code",
   "execution_count": null,
   "id": "05224ef6-036a-455b-98d3-84ce02df1dbf",
   "metadata": {},
   "outputs": [],
   "source": [
    "# Top 10 Most Frequent Customers\n",
    "# Orders Sales and Revenue by Customer\n",
    "SELECT\n",
    "    CONCAT(c.first_name, ' ', c.last_name) AS customer_name,\n",
    "    s.customer_key AS customer_key,\n",
    "    COUNT(o.order_number) AS order_count,\n",
    "    SUM(o.order_quantity) AS sales_quantity,\n",
    "    ROUND(SUM(o.order_price), 2) AS total_sales,\n",
    "    ROUND(SUM(o.order_revenue), 2) AS total_revenue\n",
    "FROM `AdventureWorks.sales` s\n",
    "JOIN `AdventureWorks.customers` c\n",
    "    ON s.customer_key = c.customer_key\n",
    "JOIN `AdventureWorks.orders` o\n",
    "    ON s.order_number = o.order_number\n",
    "GROUP BY\n",
    "    s.customer_key,\n",
    "    customer_name\n",
    "ORDER BY total_orders DESC"
   ]
  },
  {
   "cell_type": "markdown",
   "id": "242be61b-21c9-4322-871e-3efc1242a84f",
   "metadata": {},
   "source": [
    "> ##### _\"High-revenue customers with high-quantity orders indicate ideal opportunities for loyalty programs.\"_"
   ]
  },
  {
   "cell_type": "markdown",
   "id": "34eb481a-420e-4a7b-b95f-c3f40810c4fa",
   "metadata": {
    "jp-MarkdownHeadingCollapsed": true
   },
   "source": [
    "## 🧠 Insights & Recommendations"
   ]
  },
  {
   "cell_type": "markdown",
   "id": "f4502bd4-2c67-448a-860f-87629c283a0f",
   "metadata": {},
   "source": [
    "- **Focus on High-Performing Products**  \n",
    "  ➤ A small group of products (mainly bikes and accessories) drive most revenue.  \n",
    "  ➤ Prioritize inventory planning, marketing and promotions around these.  \n",
    "- **Understand Growth, Not Seasonality**  \n",
    "  ➤ Sales are increasing consistently month-over-month, with no clear seasonal dips or spikes.  \n",
    "  ➤ Keep monitoring trends to identify potential cycles.  \n",
    "- **Target Growth regions**  \n",
    "  ➤ North America is the core market, but Europe and Australia show strong potential.  \n",
    "  ➤ These should be prioritized for expansion or targeted campaigns.  \n",
    "- **Leverage Customer Loyalty**  \n",
    "  ➤ Top customers make frequent, high-value purchases.  \n",
    "  ➤ Implement segmentation and loyalty programs to nurture these realationships."
   ]
  },
  {
   "cell_type": "markdown",
   "id": "4c26d8e1-8e1d-4b14-bf30-2cf6ebdb1105",
   "metadata": {
    "jp-MarkdownHeadingCollapsed": true
   },
   "source": [
    "## 📌 What's Next?"
   ]
  },
  {
   "cell_type": "markdown",
   "id": "8408b87e-c5ec-4269-b4e0-30deccffbba2",
   "metadata": {},
   "source": [
    "- 📍 Segment customers by geography or product preferences to deepen insights\n",
    "- 📍 Incorporate product return/cancellation data for net revenue accuracy\n",
    "- 📍 Visualize trends using Python (matplotlib, seaborn) or Power BI\n",
    "- 📍 Export key tables to CSV for sharing and reporting"
   ]
  }
 ],
 "metadata": {
  "kernelspec": {
   "display_name": "Python 3 (ipykernel)",
   "language": "python",
   "name": "python3"
  },
  "language_info": {
   "codemirror_mode": {
    "name": "ipython",
    "version": 3
   },
   "file_extension": ".py",
   "mimetype": "text/x-python",
   "name": "python",
   "nbconvert_exporter": "python",
   "pygments_lexer": "ipython3",
   "version": "3.12.3"
  }
 },
 "nbformat": 4,
 "nbformat_minor": 5
}
